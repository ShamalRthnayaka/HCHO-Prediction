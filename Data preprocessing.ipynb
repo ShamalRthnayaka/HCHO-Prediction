{
 "cells": [
  {
   "cell_type": "code",
   "execution_count": 4,
   "id": "initial_id",
   "metadata": {
    "collapsed": true,
    "ExecuteTime": {
     "end_time": "2024-03-14T04:58:56.945126600Z",
     "start_time": "2024-03-14T04:58:56.738686700Z"
    }
   },
   "outputs": [
    {
     "name": "stdout",
     "output_type": "stream",
     "text": [
      "    0.00019698343957810148  Colombo Proper  2019-01-01  2019-01-02\n",
      "0                 0.000263  Colombo Proper  2019-01-02  2019-01-03\n",
      "1                 0.000099  Colombo Proper  2019-01-03  2019-01-04\n",
      "2                 0.000210  Colombo Proper  2019-01-04  2019-01-05\n",
      "3                 0.000179  Colombo Proper  2019-01-05  2019-01-06\n",
      "4                 0.000108  Colombo Proper  2019-01-06  2019-01-07\n",
      "..                     ...             ...         ...         ...\n",
      "95                0.000180  Colombo Proper  2019-04-07  2019-04-08\n",
      "96                0.000194  Colombo Proper  2019-04-08  2019-04-09\n",
      "97                0.000201  Colombo Proper  2019-04-09  2019-04-10\n",
      "98                0.000205  Colombo Proper  2019-04-10  2019-04-11\n",
      "99                0.000279  Colombo Proper  2019-04-11  2019-04-12\n",
      "\n",
      "[100 rows x 4 columns]\n"
     ]
    }
   ],
   "source": [
    "import pandas as pd\n",
    "\n",
    "# Read the CSV file into a DataFrame\n",
    "data = pd.read_csv('./datasets/col_mat_nuw_output.csv')\n",
    "\n",
    "# Display the first 100 rows of the DataFrame\n",
    "print(data.head(100))"
   ]
  },
  {
   "cell_type": "code",
   "execution_count": 5,
   "outputs": [
    {
     "name": "stdout",
     "output_type": "stream",
     "text": [
      "   HCHO Reading        Location Current Date   Next Date\n",
      "0      0.000263  Colombo Proper   2019-01-02  2019-01-03\n",
      "1      0.000099  Colombo Proper   2019-01-03  2019-01-04\n",
      "2      0.000210  Colombo Proper   2019-01-04  2019-01-05\n",
      "3      0.000179  Colombo Proper   2019-01-05  2019-01-06\n",
      "4      0.000108  Colombo Proper   2019-01-06  2019-01-07\n"
     ]
    }
   ],
   "source": [
    "# Define the new column names\n",
    "column_names = ['HCHO Reading', 'Location', 'Current Date', 'Next Date']\n",
    "\n",
    "# Rename the columns\n",
    "data.rename(columns=dict(zip(data.columns, column_names)), inplace=True)\n",
    "\n",
    "# Display the first few rows after renaming\n",
    "print(data.head())"
   ],
   "metadata": {
    "collapsed": false,
    "ExecuteTime": {
     "end_time": "2024-03-14T04:58:56.978039Z",
     "start_time": "2024-03-14T04:58:56.880300600Z"
    }
   },
   "id": "2c975be42bed3a6"
  },
  {
   "cell_type": "code",
   "execution_count": 6,
   "outputs": [
    {
     "name": "stdout",
     "output_type": "stream",
     "text": [
      "<class 'pandas.core.frame.DataFrame'>\n",
      "RangeIndex: 5477 entries, 0 to 5476\n",
      "Data columns (total 4 columns):\n",
      " #   Column        Non-Null Count  Dtype  \n",
      "---  ------        --------------  -----  \n",
      " 0   HCHO Reading  3058 non-null   float64\n",
      " 1   Location      5477 non-null   object \n",
      " 2   Current Date  5477 non-null   object \n",
      " 3   Next Date     5477 non-null   object \n",
      "dtypes: float64(1), object(3)\n",
      "memory usage: 171.3+ KB\n"
     ]
    }
   ],
   "source": [
    "# Display information about the DataFrame\n",
    "data.info()"
   ],
   "metadata": {
    "collapsed": false,
    "ExecuteTime": {
     "end_time": "2024-03-14T04:58:57.057826700Z",
     "start_time": "2024-03-14T04:58:56.923186100Z"
    }
   },
   "id": "a5d84dc7a6fd5ae7"
  },
  {
   "cell_type": "code",
   "execution_count": 7,
   "outputs": [
    {
     "name": "stdout",
     "output_type": "stream",
     "text": [
      "HCHO Reading has 3058 unique values.\n",
      "Location has 3 unique values.\n",
      "Current Date has 1826 unique values.\n",
      "Next Date has 1826 unique values.\n"
     ]
    }
   ],
   "source": [
    "# Calculate the number of unique values in each column\n",
    "for column in data.columns:\n",
    "    unique_values_count = data[column].nunique()\n",
    "    print(f\"{column} has {unique_values_count} unique values.\")"
   ],
   "metadata": {
    "collapsed": false,
    "ExecuteTime": {
     "end_time": "2024-03-14T04:58:57.150578500Z",
     "start_time": "2024-03-14T04:58:57.017933100Z"
    }
   },
   "id": "485f9a977d12515e"
  },
  {
   "cell_type": "code",
   "execution_count": 8,
   "outputs": [
    {
     "data": {
      "text/plain": "HCHO Reading    3058\nLocation           3\nCurrent Date    1826\nNext Date       1826\ndtype: int64"
     },
     "execution_count": 8,
     "metadata": {},
     "output_type": "execute_result"
    }
   ],
   "source": [
    "data.nunique()"
   ],
   "metadata": {
    "collapsed": false,
    "ExecuteTime": {
     "end_time": "2024-03-14T04:58:57.174514200Z",
     "start_time": "2024-03-14T04:58:57.077772600Z"
    }
   },
   "id": "19cc736857f2c19e"
  },
  {
   "cell_type": "code",
   "execution_count": 9,
   "outputs": [
    {
     "name": "stdout",
     "output_type": "stream",
     "text": [
      "HCHO Reading unique values:\n",
      "[2.62552217e-04 9.85211890e-05 2.09932052e-04 ... 1.07861038e-04\n",
      " 5.93039927e-06 2.36988212e-04]\n",
      "\n",
      "\n",
      "Location unique values:\n",
      "['Colombo Proper' 'Deniyaya, Matara' 'Nuwara Eliya Proper']\n",
      "\n",
      "\n",
      "Current Date unique values:\n",
      "['2019-01-02' '2019-01-03' '2019-01-04' ... '2023-12-30' '2023-12-31'\n",
      " '2019-01-01']\n",
      "\n",
      "\n",
      "Next Date unique values:\n",
      "['2019-01-03' '2019-01-04' '2019-01-05' ... '2023-12-31' '2024-01-01'\n",
      " '2019-01-02']\n"
     ]
    }
   ],
   "source": [
    "# Print unique values for each column\n",
    "for column in data.columns:\n",
    "    unique_values = data[column].unique()\n",
    "    print(f\"{column} unique values:\")\n",
    "    print(unique_values)\n",
    "    print(\"\\n\")"
   ],
   "metadata": {
    "collapsed": false,
    "ExecuteTime": {
     "end_time": "2024-03-14T04:58:57.182492600Z",
     "start_time": "2024-03-14T04:58:57.125644300Z"
    }
   },
   "id": "48b7a2ecbb9d5b40"
  },
  {
   "cell_type": "code",
   "execution_count": 10,
   "outputs": [
    {
     "name": "stdout",
     "output_type": "stream",
     "text": [
      "Null value counts for each column:\n",
      "HCHO Reading    2419\n",
      "Location           0\n",
      "Current Date       0\n",
      "Next Date          0\n",
      "dtype: int64\n"
     ]
    }
   ],
   "source": [
    "# Check for null values in the DataFrame\n",
    "null_counts = data.isnull().sum()\n",
    "\n",
    "# Display the counts of null values for each column\n",
    "print(\"Null value counts for each column:\")\n",
    "print(null_counts)\n"
   ],
   "metadata": {
    "collapsed": false,
    "ExecuteTime": {
     "end_time": "2024-03-14T04:58:57.304166900Z",
     "start_time": "2024-03-14T04:58:57.179501300Z"
    }
   },
   "id": "b56e535de7c3beff"
  },
  {
   "cell_type": "code",
   "execution_count": 11,
   "outputs": [],
   "source": [
    "# Impute null values with the mean of the column\n",
    "mean_hcho_reading = data['HCHO Reading'].mean()\n",
    "data['HCHO Reading'].fillna(mean_hcho_reading, inplace=True)"
   ],
   "metadata": {
    "collapsed": false,
    "ExecuteTime": {
     "end_time": "2024-03-14T04:58:57.315137900Z",
     "start_time": "2024-03-14T04:58:57.216402300Z"
    }
   },
   "id": "d7659d9e20b45a99"
  },
  {
   "cell_type": "code",
   "execution_count": 12,
   "outputs": [],
   "source": [
    "# Drop rows with null values in the 'HCHO Reading' column\n",
    "data.dropna(subset=['HCHO Reading'], inplace=True)\n"
   ],
   "metadata": {
    "collapsed": false,
    "ExecuteTime": {
     "end_time": "2024-03-14T04:58:57.404898300Z",
     "start_time": "2024-03-14T04:58:57.283224500Z"
    }
   },
   "id": "a44337224ec9a0aa"
  },
  {
   "cell_type": "code",
   "execution_count": 13,
   "outputs": [
    {
     "name": "stdout",
     "output_type": "stream",
     "text": [
      "Null value counts for each column after handling missing values:\n",
      "HCHO Reading    0\n",
      "Location        0\n",
      "Current Date    0\n",
      "Next Date       0\n",
      "dtype: int64\n"
     ]
    }
   ],
   "source": [
    "# Check for null values in the DataFrame after handling missing values\n",
    "null_counts = data.isnull().sum()\n",
    "print(\"Null value counts for each column after handling missing values:\")\n",
    "print(null_counts)\n"
   ],
   "metadata": {
    "collapsed": false,
    "ExecuteTime": {
     "end_time": "2024-03-14T04:58:57.458754800Z",
     "start_time": "2024-03-14T04:58:57.410882800Z"
    }
   },
   "id": "98104f4c2ae48d4"
  },
  {
   "cell_type": "code",
   "execution_count": 14,
   "outputs": [
    {
     "name": "stdout",
     "output_type": "stream",
     "text": [
      "<class 'pandas.core.frame.DataFrame'>\n",
      "RangeIndex: 5477 entries, 0 to 5476\n",
      "Data columns (total 4 columns):\n",
      " #   Column        Non-Null Count  Dtype  \n",
      "---  ------        --------------  -----  \n",
      " 0   HCHO Reading  5477 non-null   float64\n",
      " 1   Location      5477 non-null   object \n",
      " 2   Current Date  5477 non-null   object \n",
      " 3   Next Date     5477 non-null   object \n",
      "dtypes: float64(1), object(3)\n",
      "memory usage: 171.3+ KB\n"
     ]
    }
   ],
   "source": [
    "data.info()"
   ],
   "metadata": {
    "collapsed": false,
    "ExecuteTime": {
     "end_time": "2024-03-14T04:58:57.541535700Z",
     "start_time": "2024-03-14T04:58:57.454765200Z"
    }
   },
   "id": "6c532741df5f806d"
  },
  {
   "cell_type": "code",
   "execution_count": 15,
   "outputs": [],
   "source": [
    "# Remove duplicate rows from the DataFrame\n",
    "data.drop_duplicates(inplace=True)"
   ],
   "metadata": {
    "collapsed": false,
    "ExecuteTime": {
     "end_time": "2024-03-14T04:58:57.981667800Z",
     "start_time": "2024-03-14T04:58:57.513609Z"
    }
   },
   "id": "d56d13d975c04bed"
  },
  {
   "cell_type": "code",
   "execution_count": 16,
   "outputs": [
    {
     "name": "stdout",
     "output_type": "stream",
     "text": [
      "<class 'pandas.core.frame.DataFrame'>\n",
      "Int64Index: 5477 entries, 0 to 5476\n",
      "Data columns (total 4 columns):\n",
      " #   Column        Non-Null Count  Dtype  \n",
      "---  ------        --------------  -----  \n",
      " 0   HCHO Reading  5477 non-null   float64\n",
      " 1   Location      5477 non-null   object \n",
      " 2   Current Date  5477 non-null   object \n",
      " 3   Next Date     5477 non-null   object \n",
      "dtypes: float64(1), object(3)\n",
      "memory usage: 213.9+ KB\n"
     ]
    }
   ],
   "source": [
    "data.info()"
   ],
   "metadata": {
    "collapsed": false,
    "ExecuteTime": {
     "end_time": "2024-03-14T04:58:58.152212800Z",
     "start_time": "2024-03-14T04:58:57.978676700Z"
    }
   },
   "id": "863cbef4c2d9bb51"
  },
  {
   "cell_type": "code",
   "execution_count": 17,
   "outputs": [
    {
     "data": {
      "text/plain": "<Figure size 640x480 with 1 Axes>",
      "image/png": "[encoded data removed]"
     },
     "metadata": {},
     "output_type": "display_data"
    }
   ],
   "source": [
    "import matplotlib.pyplot as plt\n",
    "\n",
    "# Plot histogram\n",
    "plt.hist(data['HCHO Reading'], bins=20, color='blue', alpha=0.7)\n",
    "plt.xlabel('HCHO Reading')\n",
    "plt.ylabel('Frequency')\n",
    "plt.title('Histogram of HCHO Reading')\n",
    "plt.show()"
   ],
   "metadata": {
    "collapsed": false,
    "ExecuteTime": {
     "end_time": "2024-03-14T04:59:16.009685Z",
     "start_time": "2024-03-14T04:58:58.150218200Z"
    }
   },
   "id": "f6f531eb6742465a"
  },
  {
   "cell_type": "code",
   "execution_count": 18,
   "outputs": [],
   "source": [
    "# Convert data types\n",
    "data['HCHO Reading'] = data['HCHO Reading'].astype(float)\n",
    "data['Current Date'] = pd.to_datetime(data['Current Date'])\n",
    "data['Next Date'] = pd.to_datetime(data['Next Date'])"
   ],
   "metadata": {
    "collapsed": false,
    "ExecuteTime": {
     "end_time": "2024-03-14T04:59:16.412607800Z",
     "start_time": "2024-03-14T04:59:16.014672400Z"
    }
   },
   "id": "b158b7e4bd7f07fb"
  },
  {
   "cell_type": "code",
   "execution_count": 19,
   "outputs": [
    {
     "name": "stdout",
     "output_type": "stream",
     "text": [
      "<class 'pandas.core.frame.DataFrame'>\n",
      "Int64Index: 5477 entries, 0 to 5476\n",
      "Data columns (total 4 columns):\n",
      " #   Column        Non-Null Count  Dtype         \n",
      "---  ------        --------------  -----         \n",
      " 0   HCHO Reading  5477 non-null   float64       \n",
      " 1   Location      5477 non-null   object        \n",
      " 2   Current Date  5477 non-null   datetime64[ns]\n",
      " 3   Next Date     5477 non-null   datetime64[ns]\n",
      "dtypes: datetime64[ns](2), float64(1), object(1)\n",
      "memory usage: 213.9+ KB\n"
     ]
    }
   ],
   "source": [
    "data.info()"
   ],
   "metadata": {
    "collapsed": false,
    "ExecuteTime": {
     "end_time": "2024-03-14T04:59:16.413606300Z",
     "start_time": "2024-03-14T04:59:16.067530300Z"
    }
   },
   "id": "2d714d9e4c059d2f"
  },
  {
   "cell_type": "code",
   "execution_count": null,
   "outputs": [],
   "source": [],
   "metadata": {
    "collapsed": false
   },
   "id": "68e66987878660b4"
  }
 ],
 "metadata": {
  "kernelspec": {
   "display_name": "Python 3",
   "language": "python",
   "name": "python3"
  },
  "language_info": {
   "codemirror_mode": {
    "name": "ipython",
    "version": 3
   },
   "file_extension": ".py",
   "mimetype": "text/x-python",
   "name": "python",
   "nbconvert_exporter": "python",
   "pygments_lexer": "ipython3",
   "version": "3.12.2"
  }
 },
 "nbformat": 4,
 "nbformat_minor": 5
}
